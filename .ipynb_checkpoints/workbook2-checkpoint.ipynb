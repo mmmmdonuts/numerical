{
 "cells": [
  {
   "cell_type": "markdown",
   "metadata": {
    "deletable": true,
    "editable": true
   },
   "source": [
    "# MA934  Numerical Methods - Workbook 2"
   ]
  },
  {
   "cell_type": "code",
   "execution_count": 85,
   "metadata": {
    "collapsed": false,
    "deletable": true,
    "editable": true
   },
   "outputs": [
    {
     "name": "stderr",
     "output_type": "stream",
     "text": [
      "\u001b[1m\u001b[34mINFO: Recompiling stale cache file /home/hpc/.julia/lib/v0.5/PDMats.ji for module PDMats.\n",
      "\u001b[0m\u001b[1m\u001b[34mINFO: Recompiling stale cache file /home/hpc/.julia/lib/v0.5/Distributions.ji for module Distributions.\n",
      "\u001b[0mWARNING: Method definition (::Type{Main.KVPair})(Int64, Float64) in module Main at /home/hpc/Warwick/Numerical/kvpair.jl:3 overwritten at /home/hpc/Warwick/Numerical/kvpair.jl:3.\n",
      "WARNING: Method definition (::Type{Main.KVPair})(Any, Any) in module Main at /home/hpc/Warwick/Numerical/kvpair.jl:3 overwritten at /home/hpc/Warwick/Numerical/kvpair.jl:3.\n"
     ]
    },
    {
     "ename": "LoadError",
     "evalue": "LoadError: invalid redefinition of constant LList\nwhile loading /home/hpc/Warwick/Numerical/llist.jl, in expression starting on line 2",
     "output_type": "error",
     "traceback": [
      "LoadError: invalid redefinition of constant LList\nwhile loading /home/hpc/Warwick/Numerical/llist.jl, in expression starting on line 2",
      "",
      " in include_from_node1(::String) at ./loading.jl:488",
      " in include_string(::String, ::String) at ./loading.jl:441"
     ]
    }
   ],
   "source": [
    "#using Plots\n",
    "#pyplot()\n",
    "using PyPlot\n",
    "using Distributions\n",
    "include(\"kvpair.jl\")\n",
    "include(\"llist.jl\")\n",
    "include(\"ftree.jl\")"
   ]
  },
  {
   "cell_type": "markdown",
   "metadata": {
    "deletable": true,
    "editable": true
   },
   "source": [
    "## Question 1: Linear search using a linked list\n",
    "\n",
    "The file KVPair.jl defines a simple data structure to represent an (Int64, Float64) key-value pair. \n",
    "\n",
    "The file LList.jl defines a linked list that stores a KVPair at each node. Many languages have a keyword NULL. A pointer to any object can take the value NULL to indicate that it doesn't point to anything. NULL is often used to denote the end of a list, the leaves of a tree etc. Julia does not support NULL pointers. This causes a difficulty in implementing recursive data structures. Instead Julia provides a parametric data type Nullable{T} to represent missing values. It is possible to use Nullable types to define recursive data structures although some of the resulting definitions are a bit clumsy. I'm not sure that this is the canonical way to implement structural recursion in Julia. \n",
    "\n",
    "The following points are important:\n",
    "\n",
    "* if a variable has type Nullable{T} then it can either contain a value of type T or nothing (ie a missing value). \n",
    "* the function isnull(x) checks whether a nullable type x has a value or not. \n",
    "* the function get(x) returns the actual value (of type T) contained in a nullable type x.\n",
    "\n",
    "Much more information can be found at https://docs.julialang.org/en/stable/manual/types/\n",
    "\n",
    "The function \n",
    "\n",
    "> buildLList(dataArray::Array{KVPair, 1})\n",
    "\n",
    "takes an array of KVPair objects as input and returns an LList containing these KVPairs. This is illustrated in the code below.\n",
    "\n",
    "**1.1)** Write a recursive function that traverses the list and prints out the key-value pairs stored in it. Check that your function works."
   ]
  },
  {
   "cell_type": "code",
   "execution_count": 7,
   "metadata": {
    "collapsed": false,
    "deletable": true,
    "editable": true
   },
   "outputs": [],
   "source": [
    "x=rand(5);\n",
    "\n",
    "Ltemp=Array{KVPair}(5)\n",
    "for i=1:5\n",
    "    Ltemp[i]=KVPair(i,x[i])\n",
    "end\n",
    "\n",
    "L=Nullable{LList}\n",
    "L=buildLList(Ltemp);"
   ]
  },
  {
   "cell_type": "code",
   "execution_count": 8,
   "metadata": {
    "collapsed": false,
    "deletable": true,
    "editable": true
   },
   "outputs": [
    {
     "name": "stderr",
     "output_type": "stream",
     "text": [
      "WARNING: Method definition traverse(Any) in module Main at In[4]:2 overwritten at In[8]:2.\n"
     ]
    },
    {
     "data": {
      "text/plain": [
       "traverse (generic function with 1 method)"
      ]
     },
     "execution_count": 8,
     "metadata": {},
     "output_type": "execute_result"
    }
   ],
   "source": [
    "function traverse(L)\n",
    "    if (!isnull(L))\n",
    "        print(get(L).data.key)\n",
    "        print(\" \")\n",
    "        println(get(L).data.value)\n",
    "        traverse(get(L).next)\n",
    "    end\n",
    "end"
   ]
  },
  {
   "cell_type": "code",
   "execution_count": 9,
   "metadata": {
    "collapsed": false,
    "deletable": true,
    "editable": true
   },
   "outputs": [
    {
     "name": "stdout",
     "output_type": "stream",
     "text": [
      "1 0.2986142783434118\n",
      "2 0.24683718661000897\n",
      "3 0.5796722333690416\n",
      "4 0.6488819502093455\n",
      "5 0.010905889635595356\n"
     ]
    }
   ],
   "source": [
    "traverse(L)"
   ]
  },
  {
   "cell_type": "markdown",
   "metadata": {
    "deletable": true,
    "editable": true
   },
   "source": [
    "**1.2)** Write a function search(list::Nullable{LList}, k::Int64) that searches an LList for the key k and returns the corresponding KVPair if it is present and a Nullable{KVPair} otherwise. Verify that your function works."
   ]
  },
  {
   "cell_type": "code",
   "execution_count": 10,
   "metadata": {
    "collapsed": false,
    "deletable": true,
    "editable": true
   },
   "outputs": [
    {
     "data": {
      "text/plain": [
       "Lsearch (generic function with 1 method)"
      ]
     },
     "execution_count": 10,
     "metadata": {},
     "output_type": "execute_result"
    }
   ],
   "source": [
    "k=5;\n",
    "\n",
    "function Lsearch(L,k)\n",
    "    if(!isnull(L))\n",
    "        if(k==get(L).data.key)\n",
    "           return(get(L).data.value)\n",
    "        else\n",
    "            Lsearch(get(L).next,k)\n",
    "        end\n",
    "    else\n",
    "        return(Nullable{KVPair})\n",
    "    end\n",
    "end              "
   ]
  },
  {
   "cell_type": "code",
   "execution_count": 11,
   "metadata": {
    "collapsed": false,
    "deletable": true,
    "editable": true
   },
   "outputs": [
    {
     "data": {
      "text/plain": [
       "Nullable{KVPair}"
      ]
     },
     "execution_count": 11,
     "metadata": {},
     "output_type": "execute_result"
    }
   ],
   "source": [
    "Lsearch(L,10)"
   ]
  },
  {
   "cell_type": "code",
   "execution_count": 12,
   "metadata": {
    "collapsed": false,
    "deletable": true,
    "editable": true
   },
   "outputs": [
    {
     "data": {
      "text/plain": [
       "0.010905889635595356"
      ]
     },
     "execution_count": 12,
     "metadata": {},
     "output_type": "execute_result"
    }
   ],
   "source": [
    "Lsearch(L,5)"
   ]
  },
  {
   "cell_type": "markdown",
   "metadata": {
    "deletable": true,
    "editable": true
   },
   "source": [
    "**1.3)** Use Julia's @timed macro to measure how the typical computational cost of your search() function grows with the length of the list. "
   ]
  },
  {
   "cell_type": "code",
   "execution_count": 47,
   "metadata": {
    "collapsed": false,
    "deletable": true,
    "editable": true
   },
   "outputs": [],
   "source": [
    "srand(1234)\n",
    "\n",
    "time=zeros(15)\n",
    "\n",
    "for i=1:15\n",
    "    n=2^i\n",
    "    x=rand(n)\n",
    "    values=Array{KVPair}(n)\n",
    "    for j=1:n\n",
    "        values[j]=KVPair(j,x[j])\n",
    "    end\n",
    "    L=Nullable{LList}()\n",
    "    L=buildLList(values)\n",
    "    k=n+1\n",
    "    t=@timed Lsearch(L,k)\n",
    "    time[i]=t[2]\n",
    "end    "
   ]
  },
  {
   "cell_type": "code",
   "execution_count": 59,
   "metadata": {
    "collapsed": false,
    "deletable": true,
    "editable": true,
    "scrolled": false
   },
   "outputs": [
    {
     "data": {
      "image/png": "[encoded data removed]",
      "text/plain": [
       "PyPlot.Figure(PyObject <matplotlib.figure.Figure object at 0x7f967d700950>)"
      ]
     },
     "metadata": {},
     "output_type": "display_data"
    }
   ],
   "source": [
    "ax = axes()\n",
    "title(\"Search function computational cost\",fontsize=12);\n",
    "grid(\"on\")\n",
    "ax[:set_xlabel](L\"$i$, where $i$ is the exponent of $2^i$\", fontsize=15)\n",
    "ax[:set_ylabel](L\"$time$\", fontsize=15);\n",
    "x=linspace(1,15,15)\n",
    "semilogy(x,time);"
   ]
  },
  {
   "cell_type": "markdown",
   "metadata": {
    "deletable": true,
    "editable": true
   },
   "source": [
    "## Question 2: Interval membership\n",
    "\n",
    "The problem of interval membership is the following: given a set of contiguous intervals, \n",
    "\n",
    "$\\left\\{[x_0, x_1), [x_1, x_2), \\ldots, [x_{n-2}, x_{n-1}), [x_{n-1}, x_n)\\right\\}$\n",
    "\n",
    "spanning the interval $[x_1, x_n)$ and given a random number $x \\in [x_1, x_n)$, determine the interval in which $x$ lies. The standard numerical algorithm for stochastic simulation of continuous-time Markov processes (eg birth-death process, contact process, SIR model etc) requires solving an interval membership problem at each time step. It is therefore important to be able to solve it efficiently. Note, we cannot assume that all intervals are the same length.\n",
    "\n",
    "We can solve the interval membership problem with $n$ interval by a variant of linear search in $O(n)$ time. We will demonstrate below that it can be solved in $O(\\log\\, n)$ time using a variant of a data structure known as a Fenwick tree.\n",
    "\n",
    "**1)** Use Julia's random number generator to generate $n$ random interval lengths, $y_1, y_2, \\ldots, y_n$ between 0 and 1 as shown: "
   ]
  },
  {
   "cell_type": "code",
   "execution_count": 64,
   "metadata": {
    "collapsed": false,
    "deletable": true,
    "editable": true
   },
   "outputs": [],
   "source": [
    "# Set number of intervals\n",
    "n=10\n",
    "# Seed for random number generator. \n",
    "# You should choose your own seed so that everyone does not end up with the same random sequences\n",
    "seed = 1235 \n",
    "# Initialise the random number generator\n",
    "rng = MersenneTwister(seed)\n",
    "# Generate a sample of n uniform random numbers in the interval [0,1]\n",
    "X = rand(rng, n);"
   ]
  },
  {
   "cell_type": "markdown",
   "metadata": {},
   "source": [
    "The corresponding interval membership problem is constructed from the partial sums:\n",
    "$$x_i = \\sum_{j=1}^i y_j, \\ \\ \\ \\ \\ i=1,2,\\ldots n.$$ \n",
    "Using the objects defined in KVPair.jl and LList.jl, create an array of key-value pairs, $(i, x_i)$, associating each interval with the corresponding partial sum and store this array in a linked list. Print the list for a small value of $n$to verify that it works."
   ]
  },
  {
   "cell_type": "code",
   "execution_count": 82,
   "metadata": {
    "collapsed": true
   },
   "outputs": [],
   "source": [
    "n=10\n",
    "Ltemp=Array{KVPair}(n)\n",
    "for i=1:n\n",
    "    x=sum(X[1:i])\n",
    "    Ltemp[i]=KVPair(i,x)\n",
    "end\n",
    "\n",
    "L=Nullable{LList}\n",
    "L=buildLList(Ltemp);"
   ]
  },
  {
   "cell_type": "code",
   "execution_count": 83,
   "metadata": {
    "collapsed": false
   },
   "outputs": [
    {
     "name": "stdout",
     "output_type": "stream",
     "text": [
      "Nullable{LList}(LList(KVPair(1,0.0951588),LList(KVPair(2,0.366057),LList(KVPair(3,1.27237),LList(KVPair(4,2.10596),LList(KVPair(5,3.05101),LList(KVPair(6,3.49468),LList(KVPair(7,4.39926),LList(KVPair(8,5.34086),LList(KVPair(9,5.37845),LList(KVPair(10,6.37453),#NULL)))))))))))"
     ]
    }
   ],
   "source": [
    "print(L)"
   ]
  },
  {
   "cell_type": "code",
   "execution_count": null,
   "metadata": {
    "collapsed": true
   },
   "outputs": [],
   "source": []
  },
  {
   "cell_type": "markdown",
   "metadata": {},
   "source": [
    "**2)** Modify the search function you wrote above to write a recursive function\n",
    "\n",
    "$$\\text{intervalmembership(list::Nullable{LList}, x::Float64)}$$\n",
    "\n",
    "that takes the LList containing the list of partial sums and a random Float64 in the range $[0, x_n]$ as inputs and returns the KVPair corresponding to the interval in which $x$ lies. Verify that it works for small values of $n$ and use Julia's @timed macro to measure how the typical computational cost grows with $n$. "
   ]
  },
  {
   "cell_type": "code",
   "execution_count": 116,
   "metadata": {
    "collapsed": false
   },
   "outputs": [
    {
     "name": "stderr",
     "output_type": "stream",
     "text": [
      "WARNING: Method definition Intervalsearch(Any, Any) in module Main at In[110]:2 overwritten at In[116]:2.\n"
     ]
    },
    {
     "data": {
      "text/plain": [
       "Intervalsearch (generic function with 1 method)"
      ]
     },
     "execution_count": 116,
     "metadata": {},
     "output_type": "execute_result"
    }
   ],
   "source": [
    "function Intervalsearch(L,k)\n",
    "    if(!isnull(L))\n",
    "        if(k<get(L).data.value)\n",
    "           return(get(L).data.key,get(L).data.value)\n",
    "        else\n",
    "            Intervalsearch(get(L).next,k)\n",
    "        end\n",
    "    else\n",
    "        return(Nullable{KVPair})\n",
    "    end\n",
    "end     "
   ]
  },
  {
   "cell_type": "code",
   "execution_count": 117,
   "metadata": {
    "collapsed": false
   },
   "outputs": [
    {
     "data": {
      "text/plain": [
       "1.4101856469498446"
      ]
     },
     "execution_count": 117,
     "metadata": {},
     "output_type": "execute_result"
    }
   ],
   "source": [
    "xn=x;\n",
    "k=rand(Uniform(0,xn))"
   ]
  },
  {
   "cell_type": "code",
   "execution_count": 118,
   "metadata": {
    "collapsed": false
   },
   "outputs": [
    {
     "data": {
      "text/plain": [
       "(4,2.1059565816183605)"
      ]
     },
     "execution_count": 118,
     "metadata": {},
     "output_type": "execute_result"
    }
   ],
   "source": [
    "Intervalsearch(L,k)"
   ]
  },
  {
   "cell_type": "code",
   "execution_count": null,
   "metadata": {
    "collapsed": true
   },
   "outputs": [],
   "source": []
  },
  {
   "cell_type": "markdown",
   "metadata": {
    "deletable": true,
    "editable": true
   },
   "source": [
    "**3)** The file FTree.jl defines a data structure implementing a variant of a Fenwick tree that can solve the interval membership problem as described in the lectures/notes. The function \n",
    "\n",
    "$$\\text{buildFTree(T::Nullable{FTree}, dataArray::Array{KVPair, 1})}$$\n",
    "\n",
    "takes the array of KVPairs containing the interval lengths as input, recursively constructs the tree and returns the FTree containing the correct key-value pairs (note a key of -1 is assigned to all non-leaf nodes)."
   ]
  },
  {
   "cell_type": "code",
   "execution_count": 42,
   "metadata": {
    "collapsed": false,
    "deletable": true,
    "editable": true
   },
   "outputs": [],
   "source": [
    "n=5\n",
    "X = rand(rng, 5)\n",
    "# Now calculate the array of partial sums\n",
    "values = Array{KVPair}(5)\n",
    "for i in 1:n\n",
    "    values[i] = KVPair(i,X[i])\n",
    "end\n",
    "T = Nullable{FTree}(FTree(KVPair(0,0.0)))\n",
    "T=buildFTree(T, values);"
   ]
  },
  {
   "cell_type": "markdown",
   "metadata": {
    "deletable": true,
    "editable": true
   },
   "source": [
    "Write a recursive function\n",
    "\n",
    "$$\\text{intervalmembership(FT::Nullable{FTree}, x::Float64)}$$\n",
    "\n",
    "that takes the FTree containing the list of partial sums and a random Float64 in the range $[0, x_n]$ as \n",
    "inputs and returns the KVPair corresponding to the interval in which $x$ lies. Verify that it works for small values of $n$ and use Julia's @timed macro to compare how the typical computational compares to the above linear search version. Note it can sometimes be difficult to directly measure $O(\\log\\, n)$ growth in computation time since the problem size needs to become very large to register appreciable run times."
   ]
  },
  {
   "cell_type": "code",
   "execution_count": null,
   "metadata": {
    "collapsed": true,
    "deletable": true,
    "editable": true
   },
   "outputs": [],
   "source": []
  },
  {
   "cell_type": "markdown",
   "metadata": {
    "deletable": true,
    "editable": true
   },
   "source": [
    "## Question 3: Gillespie algorithm for heterogeneous diffusion\n",
    "\n",
    "The Gillespie algorithm is a dynamic Monte Carlo algorithm that generates statistically correct realisations of a continous time Markov process. See https://en.wikipedia.org/wiki/Gillespie_algorithm It is used heavily in stochastic simulation of chemical and biological reaction networks and population dynamics. In this question we use it to simulate one-dimensional diffusion of heterogeneous particles whose diffusion constants are independently drawn from an exponential distribution.\n",
    "\n",
    "The basic idea of the algorithm is as follows\n",
    "1. Create a list $\\left\\{(i, r_i), i=1,\\ldots M\\right\\}$,  of all possible transitions (events), $i$, that can occur in the system and the corresponding transition rates, $r_i$.\n",
    "2. Calculate the total rate\n",
    "$$R = \\sum_{i=1}^M r_i$$\n",
    "and divide the interval $[0, R]$ into $M$ intervals whose lengths are given by the $r_i$.\n",
    "3. Generate a uniform random number in the range $[0,R]$ and determine which interval it falls in. \n",
    "4. Perform the corresponding transition and update the time variable by an amount $\\Delta t = 1/R$.\n",
    "5. Repeat until the desired simulation time is reached.\n",
    "\n",
    "To be concrete, suppose with have $N$ particles on the interval $[-L, L]$ initially located at $x=0$. Each particle can hop a distance $\\Delta x$ to the left or to the right with equal probability. The rate of hopping is initially considered to be the same for all particles:\n",
    "\n",
    "$$ r_i = \\frac{D}{2}\\,\\frac{1}{(\\Delta x)^2} $$\n",
    "\n",
    "This choice ensures that in the continous limit ($\\Delta x \\to 0$, $N\\to \\infty$), the density of particles $c(x,t)$ on the line will satisfy the usual diffusion equation with diffusion coefficient $D$ (recall MA933):\n",
    "\n",
    "$$ \\frac{\\partial c}{\\partial t} = D \\frac{\\partial^2 c}{\\partial x^2}$$\n",
    "\n",
    "with initial condition $c(x,0) = \\delta(x)$.\n",
    "\n",
    "The steps of the algorithm then correspond to the following:\n",
    "1. There are $M= 2 N$ possible transitions at each step: each of $N$ particles can hop a distance $\\Delta x$ either left or right with the above rates. We index them as follows: events k=1:N correspond to particle k hopping to the right, events k=N+1:2N correspond to particle k-N hopping to the left.\n",
    "2. The total rate is \n",
    "$$ R = \\frac{D N}{(\\Delta x)^2}.$$\n",
    "3. Generate a uniform random number in the range $[0,R]$ and determine the index $k$ of particle to move and the direction.\n",
    "4. Update the position of particle $k$ accordingly.\n",
    "5. Repeat.\n",
    "\n",
    "The following piece of code implements the Gillespie algorithm for N=100, L=10, $\\Delta x = 0.1$ and $D=1$, converts the particle positions to particle density and compares to the solution of the diffusion equation on an unbounded domain at t=1 (we assume that L=10 is far enough from zero to be considered unbounded):\n",
    "\n",
    "$$c(x, t) = \\frac{1}{\\sqrt{2 \\pi D t}}\\, \\exp [-\\frac{1}{2}\\frac{x^2}{D t} ]$$"
   ]
  },
  {
   "cell_type": "code",
   "execution_count": 8,
   "metadata": {
    "collapsed": false,
    "deletable": true,
    "editable": true
   },
   "outputs": [
    {
     "data": {
      "text/html": [
       "<img src=\"data:image/png;base64,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\" />"
      ]
     },
     "execution_count": 8,
     "metadata": {},
     "output_type": "execute_result"
    }
   ],
   "source": [
    "L=10.0\n",
    "N=100\n",
    "Nx = 201\n",
    "dx = 2.0*L/(Nx-1)\n",
    "X = dx.*(-(Nx-1)/2:(Nx-1)/2)\n",
    "Y =zeros(Int64,N)\n",
    "D = 1.0\n",
    "t=0.0\n",
    "\n",
    "\n",
    "r = (D/2.0)/(dx*dx)\n",
    "totalRate = 2.0*N*r\n",
    "dt = 1.0/totalRate\n",
    "T=1.0\n",
    "\n",
    "# This is the main loop\n",
    "while t < T\n",
    "    # Pick an event\n",
    "    k = rand(1:2*N)\n",
    "    if k<=N\n",
    "        hop = 1\n",
    "        particleId = k\n",
    "    else\n",
    "        hop = -1\n",
    "        particleId=k-N\n",
    "    end\n",
    "    Y[particleId]+=hop\n",
    "    t+=dt\n",
    "end\n",
    "\n",
    "# Calculate the estimated density of particles\n",
    "P =zeros(Float64,length(X))\n",
    "for i in 1:length(Y)\n",
    "    P[Y[i]+Int64((Nx-1)/2)+1]+=1/(N * dx)\n",
    "end\n",
    "\n",
    "# Calculate the theoretical density and compare\n",
    "function normal(x, D, t)\n",
    "    return (1.0/sqrt(2.0*pi*D*t))*exp(-x*x/(2*D*t))\n",
    "end\n",
    "P1 = normal.(X, D, T)\n",
    "plot(X, P1, label=\"Analytic solution of diffusion equation\")\n",
    "plot!(X, P, label=\"Numerical estimate of particle density\")\n",
    "xlabel!(\"x\")\n",
    "ylabel!(\"Particle density, c(x,t)\")\n",
    "title!(\"Stochastic simulation of simple diffusion in 1-D\")"
   ]
  },
  {
   "cell_type": "markdown",
   "metadata": {
    "deletable": true,
    "editable": true
   },
   "source": [
    "**1)** The code above makes critical use of the fact that all intervals have the same width in order to decide which particle to move at each step. Suppose now that instead of being equal to $D$ for each particle, the diffusion coefficients are drawn from an exponential distribution with mean $D$:\n",
    "\n",
    "$$ P(x) = \\frac{1}{D} \\exp\\left(-\\frac{x}{D}\\right). $$\n",
    "\n",
    "Modify the code to account for this, using your code from Q2 above to solve the interval membership problem using linear search. You will need to use Julia's randexp() function to generate values for the diffusion coefficients. What is the largest value of $N$ you can simulate in a \"reasonable\" time?\n",
    "\n",
    "**2)** Try again using your Fenwick tree from Q2 to solve the interval membership problem and compare. What is the largest value of $N$ you can simulate now?\n",
    "\n",
    "**3)** Show analytically that the solution of the heterogenous diffusion problem is\n",
    "\n",
    "$$ c(x,t) = \\frac{\\exp \\left(-\\sqrt{\\frac{2}{D\\,t}}\\, |x| \\right)}{\\sqrt{2\\, D\\, t}}$$\n",
    "\n",
    "You will probably need the integral formula (Formula 3.325 of Gradshteyn and Rizhik, 7th Ed.)\n",
    "\n",
    "$$ \\int_0^\\infty \\exp\\left(-a\\,x^2 - \\frac{b}{x^2} \\right)\\, dx =  \\frac{1}{2}\\,\\sqrt{\\frac{\\pi}{a}}\\,\\exp\\left(-2 \\sqrt{a\\,b} \\right).$$\n",
    "Use this formula to validate your numerical results.\n",
    "\n"
   ]
  },
  {
   "cell_type": "code",
   "execution_count": null,
   "metadata": {
    "collapsed": true,
    "deletable": true,
    "editable": true
   },
   "outputs": [],
   "source": []
  },
  {
   "cell_type": "code",
   "execution_count": null,
   "metadata": {
    "collapsed": true,
    "deletable": true,
    "editable": true
   },
   "outputs": [],
   "source": []
  }
 ],
 "metadata": {
  "kernelspec": {
   "display_name": "Julia 0.5.2",
   "language": "julia",
   "name": "julia-0.5"
  },
  "language_info": {
   "file_extension": ".jl",
   "mimetype": "application/julia",
   "name": "julia",
   "version": "0.5.2"
  }
 },
 "nbformat": 4,
 "nbformat_minor": 0
}
